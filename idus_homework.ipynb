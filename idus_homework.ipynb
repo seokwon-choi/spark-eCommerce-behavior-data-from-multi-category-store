{
 "cells": [
  {
   "cell_type": "code",
   "execution_count": 1,
   "metadata": {},
   "outputs": [
    {
     "name": "stdout",
     "output_type": "stream",
     "text": [
      "3.2.0\n"
     ]
    }
   ],
   "source": [
    "from pyspark.sql import SparkSession\n",
    "from pyspark.sql.functions import *\n",
    "\n",
    "spark = SparkSession.builder.master('local[*]').appName('csw').getOrCreate()\n",
    "\n",
    "print(spark.version)"
   ]
  },
  {
   "cell_type": "markdown",
   "metadata": {},
   "source": [
    "## 1. 해당 전체 기간에서, KST 기준으로 active user 수가 제일 큰 날짜를 구하세요\n",
    "### 문제 이해 : 날짜 별 user_id의 개수가 가장 큰 날짜를 구한다. 이때 같은 날짜에 중복된 user_id는 1개만 count한다. data_format은 KST기준으로 수행됨\n",
    "#### [주석]\n",
    "#### nov = csv파일 불러오기\n",
    "#### df_first = 날짜, 유저 추출\n",
    "#### df_g = 날짜로 group화, 유저 중복 제거 카운트\n",
    "#### df_d = count기준 내림차순 정렬\n",
    "#### df_last = count가 제일 큰것 하나만 남기기\n",
    "#### answer = 결과(active user 수가 제일 큰 날짜)"
   ]
  },
  {
   "cell_type": "code",
   "execution_count": 35,
   "metadata": {},
   "outputs": [
    {
     "name": "stdout",
     "output_type": "stream",
     "text": [
      "2019-11-17\n"
     ]
    }
   ],
   "source": [
    "nov = spark.read.csv('2019-Nov.csv', header=True)\n",
    "df_first = nov.select(date_format(col('event_time'), 'yyyy-MM-dd').alias('event_time'), col('user_id'))\n",
    "df_g = df_first.groupby(\"event_time\").agg(countDistinct(col('user_id')).alias('count'))\n",
    "df_d = df_g.sort(desc('count'))\n",
    "df_last = df_d.select(df_d.event_time).limit(1)\n",
    "for i in df_last.collect():\n",
    "    a = tuple(i)\n",
    "answer = a[0]\n",
    "print(answer)"
   ]
  },
  {
   "cell_type": "markdown",
   "metadata": {},
   "source": [
    "## 2. 1의 날짜에서, 세션이 가장 긴 사용자 10명에 대해 \"user_id, session_id, 세션시간\"를 구하세요\n",
    "### 문제 이해 : 세션은 한번 접속에 있는 시간으로 정의, 같은 user_id일 경우 user_session이 같으면 계속 접속 중을 의미함, 세션시간은 한개의 세션의 시작시간과 끝나는 시간의 차이\n",
    "#### [주석]\n",
    "#### df_s = 날짜, 유저, 세션, 시간 select\n",
    "#### df_fil = 1번 과제 날짜(2019-11-17)만 추출\n",
    "#### df_ma_mi = 유저와 세션을 기준으로 group화 하고 같은 group에서 최대 시간과 최소 시간을 추출\n",
    "#### df_sts = 최대 시간과 최소 시간의 차이를 초(sec)단위로 구함, 이 시간이 세션 시간이 됨\n",
    "#### df_so = 세션 시간을 기준으로 내림차순 정렬\n",
    "#### df_li = 유저, 세션, 세션 시간을 10개만 추출"
   ]
  },
  {
   "cell_type": "code",
   "execution_count": 3,
   "metadata": {
    "scrolled": true
   },
   "outputs": [
    {
     "name": "stdout",
     "output_type": "stream",
     "text": [
      "+---------+--------------------+--------+\n",
      "|  user_id|          session_id|세션시간|\n",
      "+---------+--------------------+--------+\n",
      "|565022209|a7c5906e-5dd8-417...|   78377|\n",
      "|568848552|f2d487ec-1a93-47c...|   76709|\n",
      "|546179105|c28e0611-7590-49c...|   75847|\n",
      "|557268031|a7b1bde2-4493-4c4...|   74193|\n",
      "|554760857|c5fc6a55-1735-463...|   72733|\n",
      "|543658395|8c85d761-88c9-45f...|   71769|\n",
      "|532969916|1ffae9b4-50e0-4d7...|   70058|\n",
      "|544784642|cfd07110-7047-4ac...|   66739|\n",
      "|561409785|a7db81e5-7d03-404...|   65743|\n",
      "|524688046|0193ea4b-88eb-40a...|   65539|\n",
      "+---------+--------------------+--------+\n",
      "\n"
     ]
    }
   ],
   "source": [
    "df_s = nov.select(date_format(col('event_time'), 'yyyy-MM-dd').alias('event_day'), col('user_id'), col('user_session'), date_format(col('event_time'), 'HH:mm:ss').alias('event_time') )\n",
    "df_fil = df_s.filter(df_s.event_day == answer)\n",
    "df_ma_mi = df_fil.groupBy('user_id', 'user_session').agg(max('event_time').alias('ma'), min('event_time').alias('mi'))\n",
    "df_sts = df_ma_mi.withColumn('to_ma',to_timestamp(col('ma'),'HH:mm:ss')).withColumn('to_mi',to_timestamp(col('mi'),'HH:mm:ss')).withColumn('session_time_sec', col('to_ma').cast('long') - col('to_mi').cast('long'))\n",
    "df_so = df_sts.sort(desc('session_time_sec'))\n",
    "df_li = df_so.select(df_so.user_id, df_so.user_session.alias('session_id'), df_so.session_time_sec.alias('세션시간')).limit(10)\n",
    "df_li.show()"
   ]
  },
  {
   "cell_type": "markdown",
   "metadata": {},
   "source": [
    "## 3. 1의 날짜의 15분 단위로 active user 수를 구하세요\n",
    "### 문제 이해 : 00:00:00부터 23:59:59 까지 15분 단위로 각 단위에서의 유저 수를 중복 제거하고 구한다. 구간은 start_time이상 finish_time이하이다.\n",
    "#### [주석] \n",
    "#### df_th = 날짜, 유저, 시간 추출\n",
    "#### df_thf = 1번 과제 날짜(2019-11-17)만 추출\n",
    "#### df_hm = '시', '분'을 추출하고 '분'을 15로 나눈 몫(소수점 내림)*15를 추출한다. '분'을 15로 나눈 몫(소수점 내림)*15는 15분 단위 구간의 시작 시간(분)이 된다.\n",
    "#### df_temp = '시', '분'을 15로 나눈 몫(소수점 내림)*15로 group화 하면 15분 단위로 나눌 수 있다. 이때 유저 수를 중복 제거하고 count한다.\n",
    "#### df_tso = '시'단위로 오름차순 정렬 후 '시'가 같을 때  \"'분'을 15로 나눈 몫(소수점 내림)*15\"단위로 오름차순 정렬 한다.\n",
    "#### df_tem = \"'분'을 추출하고 '분'을 15로 나눈 몫(소수점 내림)*15\"+14를 구한다. 이것은 15분 단위 구간의 끝나는 시간(분)이 된다.\n",
    "#### df_check = 시작 시간은 시:분:00, 끝나는 시간은 시:분:59 형식으로 만든다\n",
    "#### df_new = 시작 시간과 끝나는 시간을 timestamp 형식으로 바꿔준다\n",
    "#### df_ans = 시작 시간과 끝나는 시간 중 시간값만 추출하고 유저 수를 select"
   ]
  },
  {
   "cell_type": "code",
   "execution_count": 16,
   "metadata": {},
   "outputs": [
    {
     "name": "stdout",
     "output_type": "stream",
     "text": [
      "+----------+-----------+-----------+\n",
      "|start_time|finish_time|active user|\n",
      "+----------+-----------+-----------+\n",
      "|00:00:00  |00:14:59   |18397      |\n",
      "|00:15:00  |00:29:59   |17563      |\n",
      "|00:30:00  |00:44:59   |14695      |\n",
      "|00:45:00  |00:59:59   |16119      |\n",
      "|01:00:00  |01:14:59   |15257      |\n",
      "|01:15:00  |01:29:59   |15763      |\n",
      "|01:30:00  |01:44:59   |16024      |\n",
      "|01:45:00  |01:59:59   |12350      |\n",
      "|02:00:00  |02:14:59   |12825      |\n",
      "|02:15:00  |02:29:59   |14053      |\n",
      "|02:30:00  |02:44:59   |13852      |\n",
      "|02:45:00  |02:59:59   |14612      |\n",
      "|03:00:00  |03:14:59   |12782      |\n",
      "|03:15:00  |03:29:59   |12220      |\n",
      "|03:30:00  |03:44:59   |14555      |\n",
      "|03:45:00  |03:59:59   |13697      |\n",
      "|04:00:00  |04:14:59   |12041      |\n",
      "|04:15:00  |04:29:59   |10895      |\n",
      "|04:30:00  |04:44:59   |9556       |\n",
      "|04:45:00  |04:59:59   |8205       |\n",
      "|05:00:00  |05:14:59   |7099       |\n",
      "|05:15:00  |05:29:59   |6040       |\n",
      "|05:30:00  |05:44:59   |5243       |\n",
      "|05:45:00  |05:59:59   |4398       |\n",
      "|06:00:00  |06:14:59   |3800       |\n",
      "|06:15:00  |06:29:59   |3220       |\n",
      "|06:30:00  |06:44:59   |2844       |\n",
      "|06:45:00  |06:59:59   |2480       |\n",
      "|07:00:00  |07:14:59   |2228       |\n",
      "|07:15:00  |07:29:59   |606        |\n",
      "|07:30:00  |07:44:59   |891        |\n",
      "|07:45:00  |07:59:59   |1308       |\n",
      "|08:00:00  |08:14:59   |1296       |\n",
      "|08:15:00  |08:29:59   |1228       |\n",
      "|08:30:00  |08:44:59   |1170       |\n",
      "|08:45:00  |08:59:59   |1142       |\n",
      "|09:00:00  |09:14:59   |1195       |\n",
      "|09:15:00  |09:29:59   |1302       |\n",
      "|09:30:00  |09:44:59   |1409       |\n",
      "|09:45:00  |09:59:59   |1559       |\n",
      "|10:00:00  |10:14:59   |1867       |\n",
      "|10:15:00  |10:29:59   |2218       |\n",
      "|10:30:00  |10:44:59   |2759       |\n",
      "|10:45:00  |10:59:59   |1853       |\n",
      "|11:00:00  |11:14:59   |2816       |\n",
      "|11:15:00  |11:29:59   |5012       |\n",
      "|11:30:00  |11:44:59   |6316       |\n",
      "|11:45:00  |11:59:59   |7390       |\n",
      "|12:00:00  |12:14:59   |8662       |\n",
      "|12:15:00  |12:29:59   |9896       |\n",
      "|12:30:00  |12:44:59   |11422      |\n",
      "|12:45:00  |12:59:59   |12621      |\n",
      "|13:00:00  |13:14:59   |13958      |\n",
      "|13:15:00  |13:29:59   |15367      |\n",
      "|13:30:00  |13:44:59   |16570      |\n",
      "|13:45:00  |13:59:59   |17640      |\n",
      "|14:00:00  |14:14:59   |18104      |\n",
      "|14:15:00  |14:29:59   |19420      |\n",
      "|14:30:00  |14:44:59   |20132      |\n",
      "|14:45:00  |14:59:59   |20670      |\n",
      "|15:00:00  |15:14:59   |20012      |\n",
      "|15:15:00  |15:29:59   |21134      |\n",
      "|15:30:00  |15:44:59   |21221      |\n",
      "|15:45:00  |15:59:59   |20840      |\n",
      "|16:00:00  |16:14:59   |19900      |\n",
      "|16:15:00  |16:29:59   |20254      |\n",
      "|16:30:00  |16:44:59   |20425      |\n",
      "|16:45:00  |16:59:59   |20337      |\n",
      "|17:00:00  |17:14:59   |20294      |\n",
      "|17:15:00  |17:29:59   |20156      |\n",
      "|17:30:00  |17:44:59   |21005      |\n",
      "|17:45:00  |17:59:59   |21067      |\n",
      "|18:00:00  |18:14:59   |19534      |\n",
      "|18:15:00  |18:29:59   |20585      |\n",
      "|18:30:00  |18:44:59   |20535      |\n",
      "|18:45:00  |18:59:59   |20664      |\n",
      "|19:00:00  |19:14:59   |20085      |\n",
      "|19:15:00  |19:29:59   |21254      |\n",
      "|19:30:00  |19:44:59   |21762      |\n",
      "|19:45:00  |19:59:59   |22092      |\n",
      "|20:00:00  |20:14:59   |22158      |\n",
      "|20:15:00  |20:29:59   |21880      |\n",
      "|20:30:00  |20:44:59   |21950      |\n",
      "|20:45:00  |20:59:59   |22156      |\n",
      "|21:00:00  |21:14:59   |22328      |\n",
      "|21:15:00  |21:29:59   |22738      |\n",
      "|21:30:00  |21:44:59   |22783      |\n",
      "|21:45:00  |21:59:59   |22433      |\n",
      "|22:00:00  |22:14:59   |21747      |\n",
      "|22:15:00  |22:29:59   |21247      |\n",
      "|22:30:00  |22:44:59   |21585      |\n",
      "|22:45:00  |22:59:59   |21906      |\n",
      "|23:00:00  |23:14:59   |21609      |\n",
      "|23:15:00  |23:29:59   |21676      |\n",
      "|23:30:00  |23:44:59   |21796      |\n",
      "|23:45:00  |23:59:59   |21911      |\n",
      "+----------+-----------+-----------+\n",
      "\n"
     ]
    }
   ],
   "source": [
    "df_th = nov.select(date_format(col('event_time'), 'yyyy-MM-dd').alias('event_day'), col('user_id'), date_format(col('event_time'), 'HH:mm:ss').alias('event_time') )\n",
    "df_thf = df_th.filter(df_th.event_day == answer)\n",
    "df_hm = df_thf.withColumn('hour', hour('event_time')).withColumn('minute', minute('event_time')).withColumn('minute//15',(floor(col('minute').cast('int')/15))*15)\n",
    "df_temp = df_hm.groupby('hour','minute//15').agg(countDistinct(col('user_id')).alias('active user'))\n",
    "df_tso = df_temp.sort(asc('hour'), asc('minute//15'))\n",
    "df_tem = df_tso.withColumn('f_m', col('minute//15')+14)\n",
    "df_check = df_tem.withColumn('str_hour',col('hour').cast('string')).withColumn('str_startm', col('minute//15').cast('string')).withColumn('str_finishm', col('f_m').cast('string')).withColumn('str_start', expr(\"str_hour ||':'|| str_startm ||':'|| 00\")).withColumn('str_finish',expr(\" str_hour ||':'|| str_finishm ||':'|| 59\"))\n",
    "df_new = df_check.withColumn('start', to_timestamp(col('str_start').cast('string'),'H:m:s')).withColumn('finish', to_timestamp(col('str_finish').cast('string'),'H:m:s'))\n",
    "df_ans = df_new.select(date_format(col('start'), 'HH:mm:ss').alias('start_time'), (date_format(col('finish'),'HH:mm:ss')).alias('finish_time'), col('active user'))\n",
    "df_ans.show(df_ans.count(), False)"
   ]
  },
  {
   "cell_type": "markdown",
   "metadata": {},
   "source": [
    "## 4. 1의 날짜에서 view → cart → purchase 이벤트 진행에 따른 funnel 수치를 구하세요\n",
    "### 문제 이해 : 제품을 구매하는 과정을 제품을 보고(view) 장바구니에 담고(cart) 장바구니에 담은 제품만 구매(purchase)한다고 이해, view → cart의 funnel은 (cart 수 / view 수)*100 [단위:%], cart → purchase의 funnel은 (purchase 수 / cart 수)*100 [단위:%]로 이해\n",
    "#### [주석]\n",
    "#### df_fo = 날짜, 이벤트 타입(view, cart, purchase), 유저 추출\n",
    "#### df_fofi = 1번 과제 날짜(2019-11-17)만 추출\n",
    "#### df_fogr = 이벤트 타입을 기준으로 group화, 이벤트 타입 개수 카운트\n",
    "#### df_fote = 이벤트 타입을 하나의 group으로 묶을 수 있도록 임시 열(temp_group)을 같은 값 '1'을 갖도록 생성\n",
    "#### df_fopi = temp_group로 group화를 하면서 이벤트 타입이 column이 될 수 있도록 pivot 사용, 값은 '각 이벤트 타입 개수' 이다.\n",
    "#### df_fofu =  view → cart의 funnel은 (cart 수 / view 수)x100 [단위:%], cart → purchase의 funnel은 (purchase 수 / cart 수)x100 [단위:%], 소수 3번째 자리에서 반올림"
   ]
  },
  {
   "cell_type": "code",
   "execution_count": 34,
   "metadata": {},
   "outputs": [
    {
     "name": "stdout",
     "output_type": "stream",
     "text": [
      "+------------+----------------+\n",
      "|view→cart[%]|cart→purchase[%]|\n",
      "+------------+----------------+\n",
      "|        6.91|           33.77|\n",
      "+------------+----------------+\n",
      "\n"
     ]
    }
   ],
   "source": [
    "df_fo = nov.select(date_format(col('event_time'), 'yyyy-MM-dd').alias('event_day'), col('event_type'), col('user_id'))\n",
    "df_fofi = df_fo.filter(df_fo.event_day == answer)\n",
    "df_fogr = df_fofi.groupBy('event_type').count().alias('count')\n",
    "df_fote = df_fogr.withColumn('temp_group',expr('1'))\n",
    "df_fopi = df_foso.groupBy('temp_group').pivot('event_type').agg(sum('count'))\n",
    "df_fofu = df_fopi.select(round(col('cart')/col('view')*100, 2).alias('view→cart[%]'), round(col('purchase')/col('cart')*100, 2).alias('cart→purchase[%]'))\n",
    "df_fofu.show()"
   ]
  }
 ],
 "metadata": {
  "kernelspec": {
   "display_name": "Python 3",
   "language": "python",
   "name": "python3"
  },
  "language_info": {
   "codemirror_mode": {
    "name": "ipython",
    "version": 3
   },
   "file_extension": ".py",
   "mimetype": "text/x-python",
   "name": "python",
   "nbconvert_exporter": "python",
   "pygments_lexer": "ipython3",
   "version": "3.8.3"
  }
 },
 "nbformat": 4,
 "nbformat_minor": 4
}
